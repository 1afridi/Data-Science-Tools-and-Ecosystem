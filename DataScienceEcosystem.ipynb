{
 "cells": [
  {
   "cell_type": "markdown",
   "id": "e90cc201-93ff-42ed-b41c-7ef2f7b663b9",
   "metadata": {},
   "source": [
    "# Data Science Tools and Ecosystem"
   ]
  },
  {
   "cell_type": "markdown",
   "id": "dc976a06-2ae3-4da3-a30d-e207213a033b",
   "metadata": {},
   "source": [
    "In this notebook, Data Science Tools and Ecosystem are summarized"
   ]
  },
  {
   "cell_type": "markdown",
   "id": "4697aab3-d779-4dea-89f5-0f403fc30119",
   "metadata": {
    "tags": []
   },
   "source": [
    "__Objectives__\n",
    "\n",
    "- Listing Popular Languages used in Data Science\n",
    "- Listing Open Source IDEs for Data Science\n",
    "- Arithmetic Expression Evaluation in Python "
   ]
  },
  {
   "cell_type": "markdown",
   "id": "2769af89-70ee-4c18-abbb-53e93a36d234",
   "metadata": {},
   "source": [
    "Some of the popular languages that Data Scientists use are:\n",
    "1. Python\n",
    "2. R\n",
    "3. Julia\n",
    "4. C++"
   ]
  },
  {
   "cell_type": "markdown",
   "id": "5f0716d1-b1c5-4ab7-9985-3658cde26b0c",
   "metadata": {},
   "source": [
    "Some of the commonly used libraries used by Data Scientists include:\n",
    "1. ggplot\n",
    "2. numpy\n",
    "3. matplotlib\n",
    "4. pytorch\n",
    "5. Tensor flow"
   ]
  },
  {
   "cell_type": "code",
   "execution_count": 1,
   "id": "366cbac8-df4e-41d6-bcbb-891a0c6dc3a4",
   "metadata": {
    "tags": []
   },
   "outputs": [
    {
     "data": {
      "text/html": [
       "<style>\n",
       "table {float:left}\n",
       "</style>\n"
      ],
      "text/plain": [
       "<IPython.core.display.HTML object>"
      ]
     },
     "metadata": {},
     "output_type": "display_data"
    }
   ],
   "source": [
    "%%html\n",
    "<style>\n",
    "table {float:left}\n",
    "</style>"
   ]
  },
  {
   "cell_type": "markdown",
   "id": "8018767e-f2a2-4ac3-bb59-fc3a55baead3",
   "metadata": {},
   "source": [
    "|Data Science Tools|\n",
    ":-----\n",
    "|JuPyter Notebook|\n",
    "|VSCode|\n",
    "|Google Colab|\n",
    "|RStudio|\n"
   ]
  },
  {
   "cell_type": "markdown",
   "id": "aa0b7aab-5946-4b88-9a82-f35895c04378",
   "metadata": {},
   "source": [
    "### Below are a few examples of evaluating arithmetic expressions in Python"
   ]
  },
  {
   "cell_type": "code",
   "execution_count": 2,
   "id": "49efef25-3a89-4efe-b50d-10acd39ec593",
   "metadata": {
    "tags": []
   },
   "outputs": [
    {
     "data": {
      "text/plain": [
       "17"
      ]
     },
     "execution_count": 2,
     "metadata": {},
     "output_type": "execute_result"
    }
   ],
   "source": [
    "# This a simple arithmetic expression to mutiply then add integers\n",
    "\n",
    "(3*4)+5"
   ]
  },
  {
   "cell_type": "code",
   "execution_count": 5,
   "id": "96baf698-33f7-4ca8-80e6-322206335b4e",
   "metadata": {
    "tags": []
   },
   "outputs": [
    {
     "name": "stdout",
     "output_type": "stream",
     "text": [
      "3.3333333333333335 minutes\n"
     ]
    }
   ],
   "source": [
    "# This will convert 200 minutes to hours by diving by 60\n",
    "\n",
    "y = 200/60;\n",
    "print(y, 'minutes')"
   ]
  },
  {
   "cell_type": "markdown",
   "id": "7d6aac15-82f3-4126-a1c0-c30ca9808413",
   "metadata": {},
   "source": [
    "## Author\n",
    "Hamad Khan Afridi "
   ]
  }
 ],
 "metadata": {
  "kernelspec": {
   "display_name": "Python",
   "language": "python",
   "name": "conda-env-python-py"
  },
  "language_info": {
   "codemirror_mode": {
    "name": "ipython",
    "version": 3
   },
   "file_extension": ".py",
   "mimetype": "text/x-python",
   "name": "python",
   "nbconvert_exporter": "python",
   "pygments_lexer": "ipython3",
   "version": "3.7.12"
  }
 },
 "nbformat": 4,
 "nbformat_minor": 5
}
